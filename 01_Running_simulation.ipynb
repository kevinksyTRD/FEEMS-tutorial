{
 "cells": [
  {
   "cell_type": "markdown",
   "id": "f2fbdb97",
   "metadata": {},
   "source": [
    "# Running a simulation from the models created from the basic example"
   ]
  },
  {
   "cell_type": "markdown",
   "id": "74abbdd7",
   "metadata": {},
   "source": [
    "> This notebook will run after the basic example is created. Please make sure that `00_Basic_Example.ipynb` has been run."
   ]
  },
  {
   "cell_type": "code",
   "execution_count": 1,
   "id": "3cab3711",
   "metadata": {},
   "outputs": [],
   "source": [
    "# Load the system model\n",
    "import os\n",
    "from MachSysS.system_structure_pb2 import MachinerySystem\n",
    "from MachSysS.convert_to_feems import convert_proto_propulsion_system_to_feems\n",
    "\n",
    "file_path = os.path.join(\"data\", \"electric_power_system.pb\")\n",
    "if not os.path.exists(file_path):\n",
    "    raise FileNotFoundError(f\"Model file not found at {file_path}. Please run `00_Basic_Example.ipynb` first.\")\n",
    "\n",
    "# Load the protobuf file\n",
    "with open(file_path, \"rb\") as f:\n",
    "    system = MachinerySystem()\n",
    "    system.ParseFromString(f.read())\n",
    "# Convert the system to FEEMS format\n",
    "feems_system = convert_proto_propulsion_system_to_feems(system)\n"
   ]
  },
  {
   "cell_type": "code",
   "execution_count": 4,
   "id": "5f5320da",
   "metadata": {},
   "outputs": [
    {
     "name": "stdout",
     "output_type": "stream",
     "text": [
      "{'co2_emission_total_kg': GHGEmissions(tank_to_wake_kg_or_gco2eq_per_gfuel=np.float64(159.8000914094511),\n",
      "                                       well_to_tank_kg_or_gco2eq_per_gfuel=np.float64(30.172940867573164),\n",
      "                                       tank_to_wake_kg_or_gco2eq_per_gfuel_without_slip=np.float64(157.32248312099847),\n",
      "                                       tank_to_wake_kg_or_gco2eq_per_gfuel_from_green_fuel=np.float64(0.0),\n",
      "                                       tank_to_wake_kg_or_gco2eq_per_gfuel_without_slip_from_green_fuel=np.float64(0.0)),\n",
      " 'detail_result':                                 multi fuel consumption [kg]  \\\n",
      "Genset 1  FuelConsumption(fuels=[<feems.fuel.Fuel object...   \n",
      "Genset 2  FuelConsumption(fuels=[<feems.fuel.Fuel object...   \n",
      "\n",
      "         electric energy consumption [MJ] mechanical energy consumption [MJ]  \\\n",
      "Genset 1                                0                         348.889167   \n",
      "Genset 2                                0                         562.137969   \n",
      "\n",
      "         energy_stored [MJ] running hours [h]  \\\n",
      "Genset 1                  0          0.215278   \n",
      "Genset 2                  0          0.234167   \n",
      "\n",
      "                                          CO2 emission [kg] NOx emission [kg]  \\\n",
      "Genset 1  GHGEmissions(tank_to_wake_kg_or_gco2eq_per_gfu...          0.793116   \n",
      "Genset 2  GHGEmissions(tank_to_wake_kg_or_gco2eq_per_gfu...          1.277886   \n",
      "\n",
      "         component type rated capacity rated capacity unit fuel consumer type  \\\n",
      "Genset 1         GENSET          665.0                  kW                ICE   \n",
      "Genset 2         GENSET          950.0                  kW                ICE   \n",
      "\n",
      "          switchboard id  \n",
      "Genset 1               1  \n",
      "Genset 2               2  ,\n",
      " 'duration_s': np.float64(999.0),\n",
      " 'energy_consumption_auxiliary_total_mj': np.float64(50.51069154236059),\n",
      " 'energy_consumption_electric_total_mj': 0.0,\n",
      " 'energy_consumption_mechanical_total_mj': 0.0,\n",
      " 'energy_consumption_propulsion_total_mj': np.float64(686.260912358352),\n",
      " 'energy_input_electric_total_mj': 0.0,\n",
      " 'energy_input_mechanical_total_mj': 0.0,\n",
      " 'energy_stored_total_mj': 0.0,\n",
      " 'load_ratio_genset': None,\n",
      " 'multi_fuel_consumption_total_kg': FuelConsumption(fuels=[<feems.fuel.Fuel object at 0x115ab35f0>]),\n",
      " 'running_hours_fuel_cell_total_hr': 0.0,\n",
      " 'running_hours_genset_total_hr': np.float64(0.4494444444444444),\n",
      " 'running_hours_main_engines_hr': 0.0,\n",
      " 'running_hours_pti_pto_total_hr': 0.0,\n",
      " 'total_emission_kg': {<EmissionType.NOX: 2>: np.float64(2.071001907954896)}}\n"
     ]
    }
   ],
   "source": [
    "# Run the FEEMS simulation using RunFeemsSim\n",
    "from pprint import pprint\n",
    "import numpy as np\n",
    "import pandas as pd\n",
    "from RunFeemsSim.machinery_calculation import MachineryCalculation\n",
    "from feems.fuel import FuelSpecifiedBy\n",
    "\n",
    "machinery_calculation = MachineryCalculation(feems_system)\n",
    "# Set the time series for propulsion and auxiliary power\n",
    "# This example only works if the two propulsion drives have the identical power load.\n",
    "number_points_load = 1000\n",
    "time_interval_s = 1.0  # seconds\n",
    "rated_power_for_propulsion_drive_1 = feems_system.propulsion_drives[0].rated_power\n",
    "rated_power_for_propulsion_drive_2 = feems_system.propulsion_drives[1].rated_power\n",
    "propulsion_power_ts = pd.DataFrame(\n",
    "    index=np.arange(0, number_points_load * time_interval_s, time_interval_s),\n",
    "    data={\n",
    "        feems_system.propulsion_drives[0].name : rated_power_for_propulsion_drive_1 * np.random.random(number_points_load),\n",
    "        feems_system.propulsion_drives[1].name: rated_power_for_propulsion_drive_2 * np.random.random(number_points_load),\n",
    "    }\n",
    ")\n",
    "auxiliary_load = 100 * np.random.random(number_points_load)\n",
    "\n",
    "# Calculate the machinery system output from the propulsion power time series\n",
    "result = machinery_calculation.calculate_machinery_system_output_from_propulsion_power_time_series(\n",
    "    propulsion_power=propulsion_power_ts,\n",
    "    auxiliary_power_kw=auxiliary_load,\n",
    "    fuel_specified_by=FuelSpecifiedBy.FUEL_EU_MARITIME,\n",
    ")\n",
    "\n",
    "# Print the results\n",
    "pprint(result.__dict__)\n"
   ]
  },
  {
   "cell_type": "code",
   "execution_count": null,
   "id": "13619367",
   "metadata": {},
   "outputs": [
    {
     "name": "stdout",
     "output_type": "stream",
     "text": [
      "\n",
      "Fuel Consumption Results:\n",
      "DIESEL: 49.07 kg\n",
      "\n",
      "GHG Emissions Results:\n",
      "  - well to tank: 30.17 kg\n",
      "  - tank to wake: 159.80 kg\n",
      "  - well to wake: 189.97 kg\n",
      "\n",
      "Result per component\n",
      "                                multi fuel consumption [kg]  \\\n",
      "Genset 1  FuelConsumption(fuels=[<feems.fuel.Fuel object...   \n",
      "Genset 2  FuelConsumption(fuels=[<feems.fuel.Fuel object...   \n",
      "\n",
      "         electric energy consumption [MJ] mechanical energy consumption [MJ]  \\\n",
      "Genset 1                                0                         348.889167   \n",
      "Genset 2                                0                         562.137969   \n",
      "\n",
      "         energy_stored [MJ] running hours [h]  \\\n",
      "Genset 1                  0          0.215278   \n",
      "Genset 2                  0          0.234167   \n",
      "\n",
      "                                          CO2 emission [kg] NOx emission [kg]  \\\n",
      "Genset 1  GHGEmissions(tank_to_wake_kg_or_gco2eq_per_gfu...          0.793116   \n",
      "Genset 2  GHGEmissions(tank_to_wake_kg_or_gco2eq_per_gfu...          1.277886   \n",
      "\n",
      "         component type rated capacity rated capacity unit fuel consumer type  \\\n",
      "Genset 1         GENSET          665.0                  kW                ICE   \n",
      "Genset 2         GENSET          950.0                  kW                ICE   \n",
      "\n",
      "          switchboard id  \n",
      "Genset 1               1  \n",
      "Genset 2               2  \n"
     ]
    }
   ],
   "source": [
    "# Print the fuel consumption\n",
    "print(\"\\nFuel Consumption Results:\")\n",
    "for fuel_consumption in result.multi_fuel_consumption_total_kg.fuels:\n",
    "    print(f\"{fuel_consumption.fuel_type.name}: {fuel_consumption.mass_or_mass_fraction:.2f} kg\")\n",
    "# Print the ghg emissions\n",
    "print(\"\\nGHG Emissions Results:\")\n",
    "print(f\"  - well to tank: {result.co2_emission_total_kg.well_to_tank_kg_or_gco2eq_per_gfuel:.2f} kg\")\n",
    "print(f\"  - tank to wake: {result.co2_emission_total_kg.tank_to_wake_emissions_kg_for_ets:.2f} kg\")\n",
    "print(f\"  - well to wake: {result.co2_emission_total_kg.well_to_wake_kg_or_gco2eq_per_gfuel:.2f} kg\")\n",
    "# Print the result per component\n",
    "print(\"\\nResult per component\")\n",
    "print(result.detail_result)"
   ]
  },
  {
   "cell_type": "code",
   "execution_count": null,
   "id": "ff3f6249",
   "metadata": {},
   "outputs": [],
   "source": []
  }
 ],
 "metadata": {
  "kernelspec": {
   "display_name": ".venv",
   "language": "python",
   "name": "python3"
  },
  "language_info": {
   "codemirror_mode": {
    "name": "ipython",
    "version": 3
   },
   "file_extension": ".py",
   "mimetype": "text/x-python",
   "name": "python",
   "nbconvert_exporter": "python",
   "pygments_lexer": "ipython3",
   "version": "3.12.10"
  }
 },
 "nbformat": 4,
 "nbformat_minor": 5
}
